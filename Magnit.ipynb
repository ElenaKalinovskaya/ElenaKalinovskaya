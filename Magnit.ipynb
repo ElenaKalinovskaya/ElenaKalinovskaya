{
 "cells": [
  {
   "cell_type": "markdown",
   "id": "5b272efa-fdb0-43ec-ab5b-abf7ca37b21d",
   "metadata": {},
   "source": [
    "Для первой задачи мы используем данные [Jester Online Joke Recommender System](https://goldberg.berkeley.edu/jester-data/)"
   ]
  },
  {
   "cell_type": "markdown",
   "id": "85eb8247-1067-47e5-9a19-f5d20d4b2fd5",
   "metadata": {},
   "source": [
    "**Описание данных**\n",
    "\n",
    "Файл `train_joke_df.csv` содержит:\n",
    "- UID - id пользователей\n",
    "- JID - id шуток, которые \n",
    "- Ratin - рейтинг шутки, который проставил пользователь \n",
    "\n",
    "\n",
    "Рейтинг имеет значение от -10.00 до 10.00. Могут встречаться значения 99.00, но это обозначает Null (нет рейтинга от пользователя).\n",
    "\n",
    "Метрика для оценки [RMSE](https://www.codecamp.ru/blog/how-to-interpret-rmse/)\n",
    "\n",
    "Минимальный RMSE: `4.2238`\n",
    "\n"
   ]
  },
  {
   "cell_type": "code",
   "execution_count": 3,
   "id": "ec9f8af1-f94e-4955-a420-39aa18f37806",
   "metadata": {},
   "outputs": [
    {
     "name": "stdout",
     "output_type": "stream",
     "text": [
      "Collecting scikit-surprise==1.1.3\n",
      "  Using cached scikit-surprise-1.1.3.tar.gz (771 kB)\n",
      "Requirement already satisfied: joblib>=1.0.0 in ./opt/anaconda3/lib/python3.9/site-packages (from scikit-surprise==1.1.3) (1.1.0)\n",
      "Requirement already satisfied: numpy>=1.17.3 in ./opt/anaconda3/lib/python3.9/site-packages (from scikit-surprise==1.1.3) (1.20.3)\n",
      "Requirement already satisfied: scipy>=1.3.2 in ./opt/anaconda3/lib/python3.9/site-packages (from scikit-surprise==1.1.3) (1.7.1)\n",
      "Building wheels for collected packages: scikit-surprise\n",
      "  Building wheel for scikit-surprise (setup.py) ... \u001b[?25ldone\n",
      "\u001b[?25h  Created wheel for scikit-surprise: filename=scikit_surprise-1.1.3-cp39-cp39-macosx_10_9_x86_64.whl size=1144654 sha256=bed7923fc549f69ca0603e35c871c668c25949f575a1b6cb0dfeebe3b9dcec82\n",
      "  Stored in directory: /Users/admin/Library/Caches/pip/wheels/c6/3a/46/9b17b3512bdf283c6cb84f59929cdd5199d4e754d596d22784\n",
      "Successfully built scikit-surprise\n",
      "Installing collected packages: scikit-surprise\n",
      "Successfully installed scikit-surprise-1.1.3\n",
      "Note: you may need to restart the kernel to use updated packages.\n",
      "Requirement already satisfied: xlrd==2.0.1 in ./opt/anaconda3/lib/python3.9/site-packages (2.0.1)\n",
      "Note: you may need to restart the kernel to use updated packages.\n"
     ]
    }
   ],
   "source": [
    "%pip install \"scikit-surprise==1.1.3\"\n",
    "%pip install \"xlrd==2.0.1\""
   ]
  },
  {
   "cell_type": "markdown",
   "id": "f4fc3daa-2632-4ad6-b904-752bd2308fc8",
   "metadata": {},
   "source": [
    "### Import"
   ]
  },
  {
   "cell_type": "code",
   "execution_count": 4,
   "id": "427278c8-3010-4e10-9271-dc3b7723e0e7",
   "metadata": {},
   "outputs": [],
   "source": [
    "import numpy as np\n",
    "import pandas as pd\n",
    "from collections import defaultdict\n",
    "from surprise import Dataset, Reader, KNNWithMeans, accuracy\n",
    "from surprise.model_selection import GridSearchCV\n",
    "from surprise.model_selection import train_test_split\n",
    "from sklearn.model_selection import train_test_split as tts\n",
    "from surprise.model_selection import KFold"
   ]
  },
  {
   "cell_type": "code",
   "execution_count": 37,
   "id": "648ec93a",
   "metadata": {},
   "outputs": [],
   "source": [
    "import matplotlib.pyplot as plt\n",
    "from sklearn.decomposition import TruncatedSVD as SVD\n",
    "from sklearn.metrics import mean_absolute_error as mae\n",
    "from sklearn.metrics import explained_variance_score as evs\n",
    "from sklearn.metrics import mean_squared_error as mse"
   ]
  },
  {
   "cell_type": "code",
   "execution_count": 50,
   "id": "21bb3531",
   "metadata": {},
   "outputs": [],
   "source": [
    "from sklearn.metrics import mean_squared_error"
   ]
  },
  {
   "cell_type": "code",
   "execution_count": 95,
   "id": "cf124624",
   "metadata": {},
   "outputs": [],
   "source": [
    "from surprise import SVD\n",
    "from surprise.model_selection import cross_validate\n",
    "from surprise.model_selection import KFold"
   ]
  },
  {
   "cell_type": "markdown",
   "id": "0011beb8-385e-4fab-a946-7c5972cd7727",
   "metadata": {},
   "source": [
    "### Базовые функции для скоринга и получения рекомендаций"
   ]
  },
  {
   "cell_type": "markdown",
   "id": "d3f82a04-60f8-4338-8175-84409a9226ae",
   "metadata": {},
   "source": [
    "### Загрузка и обработка данных"
   ]
  },
  {
   "cell_type": "code",
   "execution_count": 262,
   "id": "6c7c4800-84cc-48ec-b5a4-0e0cb5a69c18",
   "metadata": {},
   "outputs": [
    {
     "data": {
      "text/html": [
       "<div>\n",
       "<style scoped>\n",
       "    .dataframe tbody tr th:only-of-type {\n",
       "        vertical-align: middle;\n",
       "    }\n",
       "\n",
       "    .dataframe tbody tr th {\n",
       "        vertical-align: top;\n",
       "    }\n",
       "\n",
       "    .dataframe thead th {\n",
       "        text-align: right;\n",
       "    }\n",
       "</style>\n",
       "<table border=\"1\" class=\"dataframe\">\n",
       "  <thead>\n",
       "    <tr style=\"text-align: right;\">\n",
       "      <th></th>\n",
       "      <th>UID</th>\n",
       "      <th>JID</th>\n",
       "      <th>Rating</th>\n",
       "    </tr>\n",
       "  </thead>\n",
       "  <tbody>\n",
       "    <tr>\n",
       "      <th>0</th>\n",
       "      <td>18029</td>\n",
       "      <td>6</td>\n",
       "      <td>-1.26</td>\n",
       "    </tr>\n",
       "    <tr>\n",
       "      <th>1</th>\n",
       "      <td>3298</td>\n",
       "      <td>64</td>\n",
       "      <td>-4.17</td>\n",
       "    </tr>\n",
       "    <tr>\n",
       "      <th>2</th>\n",
       "      <td>3366</td>\n",
       "      <td>58</td>\n",
       "      <td>0.92</td>\n",
       "    </tr>\n",
       "    <tr>\n",
       "      <th>3</th>\n",
       "      <td>12735</td>\n",
       "      <td>92</td>\n",
       "      <td>3.69</td>\n",
       "    </tr>\n",
       "    <tr>\n",
       "      <th>4</th>\n",
       "      <td>11365</td>\n",
       "      <td>38</td>\n",
       "      <td>-6.60</td>\n",
       "    </tr>\n",
       "  </tbody>\n",
       "</table>\n",
       "</div>"
      ],
      "text/plain": [
       "     UID  JID  Rating\n",
       "0  18029    6   -1.26\n",
       "1   3298   64   -4.17\n",
       "2   3366   58    0.92\n",
       "3  12735   92    3.69\n",
       "4  11365   38   -6.60"
      ]
     },
     "execution_count": 262,
     "metadata": {},
     "output_type": "execute_result"
    }
   ],
   "source": [
    "df = pd.read_csv('train_joke_df.csv')\n",
    "\n",
    "df.head(5)"
   ]
  },
  {
   "cell_type": "code",
   "execution_count": 263,
   "id": "08f07545-6735-407c-b549-822e9c701c70",
   "metadata": {},
   "outputs": [],
   "source": [
    "# сделаем сортировку и перепишем index\n",
    "df = df.sort_values(by=['UID', 'JID'])\n",
    "df = df.reset_index(drop=True)"
   ]
  },
  {
   "cell_type": "code",
   "execution_count": 240,
   "id": "ad3412eb",
   "metadata": {},
   "outputs": [
    {
     "data": {
      "text/plain": [
       "100"
      ]
     },
     "execution_count": 240,
     "metadata": {},
     "output_type": "execute_result"
    }
   ],
   "source": [
    "len(df['JID'].unique())"
   ]
  },
  {
   "cell_type": "code",
   "execution_count": 179,
   "id": "d3a498fc",
   "metadata": {},
   "outputs": [
    {
     "data": {
      "image/png": "[encoded data removed]",
      "text/plain": [
       "<Figure size 432x288 with 1 Axes>"
      ]
     },
     "metadata": {
      "needs_background": "light"
     },
     "output_type": "display_data"
    }
   ],
   "source": [
    "df['Rating'].hist()\n",
    "plt.show()"
   ]
  },
  {
   "cell_type": "code",
   "execution_count": 264,
   "id": "c6569d6a-5e39-43ee-96c8-283d788573d3",
   "metadata": {},
   "outputs": [],
   "source": [
    "# создадим на основе набора данных\n",
    "# поднабор, который требуется для библиотеки Surprise\n",
    "\n",
    "# указываем минимальный и максимальный рейтинги\n",
    "reader = Reader(rating_scale=(-10, 10))\n",
    "\n",
    "# передаём набор, указывая последовательность колонок: user (raw) ids, item (raw) ids, ratings\n",
    "# для Surprise - это обязательно\n",
    "data = Dataset.load_from_df(df[['UID', 'JID', 'Rating']], reader)"
   ]
  },
  {
   "cell_type": "code",
   "execution_count": 265,
   "id": "ae962279-bafb-408e-a1a9-1c698d75157e",
   "metadata": {},
   "outputs": [],
   "source": [
    "trainset_data = data.build_full_trainset()\n",
    "\n",
    "# сделаем разделение на обучающую и тестовую выборку\n",
    "trainset, testset = train_test_split(data, test_size=0.2)"
   ]
  },
  {
   "cell_type": "markdown",
   "id": "a8c430bc",
   "metadata": {},
   "source": [
    "## Модель библиотека Surprise SVD"
   ]
  },
  {
   "cell_type": "code",
   "execution_count": 259,
   "id": "c6439b99",
   "metadata": {},
   "outputs": [
    {
     "name": "stdout",
     "output_type": "stream",
     "text": [
      "4.094219708373199\n",
      "{'n_epochs': 15, 'lr_all': 0.002, 'reg_all': 0.1}\n"
     ]
    }
   ],
   "source": [
    "param_grid = {\"n_epochs\": [15], \"lr_all\": [0.001, 0.002], \"reg_all\": [0.05, 0.1,]} #подбор гиперпараметров\n",
    "gs_d = GridSearchCV(SVD, param_grid, measures=[\"rmse\", \"mae\"], cv=3)\n",
    "\n",
    "gs_d.fit(data)\n",
    "\n",
    "\n",
    "print(gs_d.best_score[\"rmse\"])\n",
    "\n",
    "# combination of parameters that gave the best RMSE score\n",
    "print(gs_d.best_params[\"rmse\"])"
   ]
  },
  {
   "cell_type": "code",
   "execution_count": 266,
   "id": "4177a7ae",
   "metadata": {},
   "outputs": [
    {
     "data": {
      "text/plain": [
       "<surprise.prediction_algorithms.matrix_factorization.SVD at 0x7fdb0ebfa850>"
      ]
     },
     "execution_count": 266,
     "metadata": {},
     "output_type": "execute_result"
    }
   ],
   "source": [
    "algor_e = SVD(n_epochs = 15, lr_all = 0.002, reg_all = 0.1)\n",
    "algor_e.fit(trainset)"
   ]
  },
  {
   "cell_type": "code",
   "execution_count": 267,
   "id": "21d88d36",
   "metadata": {},
   "outputs": [
    {
     "name": "stdout",
     "output_type": "stream",
     "text": [
      "RMSE: 4.0618\n"
     ]
    },
    {
     "data": {
      "text/plain": [
       "4.061754886949765"
      ]
     },
     "execution_count": 267,
     "metadata": {},
     "output_type": "execute_result"
    }
   ],
   "source": [
    "predictions_e = algor_e.test(testset)\n",
    "\n",
    "accuracy.rmse(predictions_e)"
   ]
  },
  {
   "cell_type": "code",
   "execution_count": 272,
   "id": "19c2138b",
   "metadata": {},
   "outputs": [],
   "source": [
    "trainset_e = algor_e.trainset\n",
    "\n",
    "predictions_df = pd.DataFrame(predictions_e, columns=['uid', 'iid', 'rui', 'est', 'details'])\n",
    "\n",
    "predictions_df['№ кол-во пользовательских рейтингов'] = predictions_df.uid.apply(get_num_user_ratings)\n",
    "predictions_df['№ кол-во рейтингов элементов'] = predictions_df.iid.apply(get_num_item_ratings)\n",
    "predictions_df['error'] = abs(predictions_df.est - predictions_df.rui)\n",
    "\n",
    "best_predictions = predictions_df.sort_values(by='error')[:10]\n",
    "worst_predictions = predictions_df.sort_values(by='error')[-10:]"
   ]
  },
  {
   "cell_type": "code",
   "execution_count": 273,
   "id": "6a6e32e0",
   "metadata": {},
   "outputs": [
    {
     "data": {
      "text/html": [
       "<div>\n",
       "<style scoped>\n",
       "    .dataframe tbody tr th:only-of-type {\n",
       "        vertical-align: middle;\n",
       "    }\n",
       "\n",
       "    .dataframe tbody tr th {\n",
       "        vertical-align: top;\n",
       "    }\n",
       "\n",
       "    .dataframe thead th {\n",
       "        text-align: right;\n",
       "    }\n",
       "</style>\n",
       "<table border=\"1\" class=\"dataframe\">\n",
       "  <thead>\n",
       "    <tr style=\"text-align: right;\">\n",
       "      <th></th>\n",
       "      <th>uid</th>\n",
       "      <th>iid</th>\n",
       "      <th>rui</th>\n",
       "      <th>est</th>\n",
       "      <th>details</th>\n",
       "      <th>№ кол-во пользовательских рейтингов</th>\n",
       "      <th>№ кол-во рейтингов элементов</th>\n",
       "      <th>error</th>\n",
       "    </tr>\n",
       "  </thead>\n",
       "  <tbody>\n",
       "    <tr>\n",
       "      <th>132368</th>\n",
       "      <td>13711</td>\n",
       "      <td>62</td>\n",
       "      <td>-0.19</td>\n",
       "      <td>-0.189971</td>\n",
       "      <td>{'was_impossible': False}</td>\n",
       "      <td>47</td>\n",
       "      <td>15899</td>\n",
       "      <td>0.000029</td>\n",
       "    </tr>\n",
       "    <tr>\n",
       "      <th>192694</th>\n",
       "      <td>10657</td>\n",
       "      <td>50</td>\n",
       "      <td>3.88</td>\n",
       "      <td>3.879943</td>\n",
       "      <td>{'was_impossible': False}</td>\n",
       "      <td>31</td>\n",
       "      <td>15919</td>\n",
       "      <td>0.000057</td>\n",
       "    </tr>\n",
       "    <tr>\n",
       "      <th>39597</th>\n",
       "      <td>13133</td>\n",
       "      <td>96</td>\n",
       "      <td>3.40</td>\n",
       "      <td>3.400079</td>\n",
       "      <td>{'was_impossible': False}</td>\n",
       "      <td>62</td>\n",
       "      <td>6596</td>\n",
       "      <td>0.000079</td>\n",
       "    </tr>\n",
       "    <tr>\n",
       "      <th>288779</th>\n",
       "      <td>15994</td>\n",
       "      <td>70</td>\n",
       "      <td>-6.12</td>\n",
       "      <td>-6.119906</td>\n",
       "      <td>{'was_impossible': False}</td>\n",
       "      <td>56</td>\n",
       "      <td>12928</td>\n",
       "      <td>0.000094</td>\n",
       "    </tr>\n",
       "    <tr>\n",
       "      <th>84909</th>\n",
       "      <td>4356</td>\n",
       "      <td>29</td>\n",
       "      <td>5.92</td>\n",
       "      <td>5.919893</td>\n",
       "      <td>{'was_impossible': False}</td>\n",
       "      <td>46</td>\n",
       "      <td>15871</td>\n",
       "      <td>0.000107</td>\n",
       "    </tr>\n",
       "  </tbody>\n",
       "</table>\n",
       "</div>"
      ],
      "text/plain": [
       "          uid  iid   rui       est                    details  \\\n",
       "132368  13711   62 -0.19 -0.189971  {'was_impossible': False}   \n",
       "192694  10657   50  3.88  3.879943  {'was_impossible': False}   \n",
       "39597   13133   96  3.40  3.400079  {'was_impossible': False}   \n",
       "288779  15994   70 -6.12 -6.119906  {'was_impossible': False}   \n",
       "84909    4356   29  5.92  5.919893  {'was_impossible': False}   \n",
       "\n",
       "        № кол-во пользовательских рейтингов  № кол-во рейтингов элементов  \\\n",
       "132368                                   47                         15899   \n",
       "192694                                   31                         15919   \n",
       "39597                                    62                          6596   \n",
       "288779                                   56                         12928   \n",
       "84909                                    46                         15871   \n",
       "\n",
       "           error  \n",
       "132368  0.000029  \n",
       "192694  0.000057  \n",
       "39597   0.000079  \n",
       "288779  0.000094  \n",
       "84909   0.000107  "
      ]
     },
     "execution_count": 273,
     "metadata": {},
     "output_type": "execute_result"
    }
   ],
   "source": [
    "best_predictions.head(5)"
   ]
  },
  {
   "cell_type": "markdown",
   "id": "aa5422a2-7447-489e-b789-5753fa32f2fa",
   "metadata": {},
   "source": [
    "### Для отправки на тестирование"
   ]
  },
  {
   "cell_type": "code",
   "execution_count": 276,
   "id": "714f5e38",
   "metadata": {},
   "outputs": [
    {
     "data": {
      "text/html": [
       "<div>\n",
       "<style scoped>\n",
       "    .dataframe tbody tr th:only-of-type {\n",
       "        vertical-align: middle;\n",
       "    }\n",
       "\n",
       "    .dataframe tbody tr th {\n",
       "        vertical-align: top;\n",
       "    }\n",
       "\n",
       "    .dataframe thead th {\n",
       "        text-align: right;\n",
       "    }\n",
       "</style>\n",
       "<table border=\"1\" class=\"dataframe\">\n",
       "  <thead>\n",
       "    <tr style=\"text-align: right;\">\n",
       "      <th></th>\n",
       "      <th>UID</th>\n",
       "      <th>JID</th>\n",
       "    </tr>\n",
       "    <tr>\n",
       "      <th>InteractionID</th>\n",
       "      <th></th>\n",
       "      <th></th>\n",
       "    </tr>\n",
       "  </thead>\n",
       "  <tbody>\n",
       "    <tr>\n",
       "      <th>0</th>\n",
       "      <td>11228</td>\n",
       "      <td>39</td>\n",
       "    </tr>\n",
       "    <tr>\n",
       "      <th>1</th>\n",
       "      <td>21724</td>\n",
       "      <td>85</td>\n",
       "    </tr>\n",
       "    <tr>\n",
       "      <th>2</th>\n",
       "      <td>16782</td>\n",
       "      <td>56</td>\n",
       "    </tr>\n",
       "    <tr>\n",
       "      <th>3</th>\n",
       "      <td>12105</td>\n",
       "      <td>42</td>\n",
       "    </tr>\n",
       "    <tr>\n",
       "      <th>4</th>\n",
       "      <td>14427</td>\n",
       "      <td>2</td>\n",
       "    </tr>\n",
       "  </tbody>\n",
       "</table>\n",
       "</div>"
      ],
      "text/plain": [
       "                 UID  JID\n",
       "InteractionID            \n",
       "0              11228   39\n",
       "1              21724   85\n",
       "2              16782   56\n",
       "3              12105   42\n",
       "4              14427    2"
      ]
     },
     "execution_count": 276,
     "metadata": {},
     "output_type": "execute_result"
    }
   ],
   "source": [
    "test = pd.read_csv('test_joke_df_nofactrating.csv', index_col=0)\n",
    "test.head(5)"
   ]
  },
  {
   "cell_type": "code",
   "execution_count": 277,
   "id": "cdfa2c61",
   "metadata": {},
   "outputs": [],
   "source": [
    "test['Rating'] = test[['UID', 'JID']].apply(lambda x: algor_e.predict(x[0], x[1], verbose=False).est,\n",
    "                                                      axis = 1)"
   ]
  },
  {
   "cell_type": "code",
   "execution_count": 279,
   "id": "0ccb0eba",
   "metadata": {},
   "outputs": [],
   "source": [
    "test['Rating'].to_frame().to_csv('baseline_e.csv')"
   ]
  },
  {
   "cell_type": "code",
   "execution_count": 278,
   "id": "8c1d27ec",
   "metadata": {},
   "outputs": [
    {
     "data": {
      "text/plain": [
       "InteractionID\n",
       "0         1.903136\n",
       "1        -7.512528\n",
       "2        -0.671561\n",
       "3         6.958712\n",
       "4         6.945554\n",
       "            ...   \n",
       "362086   -2.518946\n",
       "362087    2.571102\n",
       "362088    4.663600\n",
       "362089   -2.976915\n",
       "362090   -3.182109\n",
       "Name: Rating, Length: 362091, dtype: float64"
      ]
     },
     "execution_count": 278,
     "metadata": {},
     "output_type": "execute_result"
    }
   ],
   "source": [
    "test['Rating']"
   ]
  },
  {
   "cell_type": "code",
   "execution_count": null,
   "id": "a2a735e3",
   "metadata": {},
   "outputs": [],
   "source": []
  }
 ],
 "metadata": {
  "kernelspec": {
   "display_name": "Python 3 (ipykernel)",
   "language": "python",
   "name": "python3"
  },
  "language_info": {
   "codemirror_mode": {
    "name": "ipython",
    "version": 3
   },
   "file_extension": ".py",
   "mimetype": "text/x-python",
   "name": "python",
   "nbconvert_exporter": "python",
   "pygments_lexer": "ipython3",
   "version": "3.9.7"
  }
 },
 "nbformat": 4,
 "nbformat_minor": 5
}
